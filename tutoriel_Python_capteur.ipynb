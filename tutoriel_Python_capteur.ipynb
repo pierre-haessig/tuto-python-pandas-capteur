{
 "metadata": {
  "name": "",
  "signature": "sha256:05b46c4cc8fa4c6673f4e6fe96ec54c4e63d1f27daba02c6ab584ea3a232bb80"
 },
 "nbformat": 3,
 "nbformat_minor": 0,
 "worksheets": [
  {
   "cells": [
    {
     "cell_type": "heading",
     "level": 1,
     "metadata": {},
     "source": [
      "Tutoriel improvis\u00e9: Manipuler des donn\u00e9es en Python avec pandas"
     ]
    },
    {
     "cell_type": "markdown",
     "metadata": {},
     "source": [
      "Session de ~2h avec pour objectifs:\n",
      "\n",
      "* \"d\u00e9marrage \u00e0 froid\" en Python: installation ([Anaconda](https://store.continuum.io/cshop/anaconda/)), prise en main du [Notebook IPython](http://ipython.org/notebook.html) [0h30]\n",
      "* exploration rapide de Python num\u00e9rique: calcul avec [numpy](http://www.numpy.org/), et trac\u00e9s avec [Matplotlib](http://matplotlib.org/) [1h]\n",
      "* objectif final: charger, manipuler et tracer les donn\u00e9es d'un capteur de temp\u00e9rature et de CO2*, avec [pandas](http://pandas.pydata.org/) [1h]\n",
      "\n",
      "\n",
      "**5 f\u00e9vrier 2015**, 14h-16h30, anim\u00e9 par Pierre Haessig \n",
      "\n",
      "\\* *mise en ab\u00eeme*: la session a lieu dans la salle o\u00f9 est install\u00e9e ce capteur..."
     ]
    },
    {
     "cell_type": "heading",
     "level": 2,
     "metadata": {},
     "source": [
      "1) D\u00e9marrage"
     ]
    },
    {
     "cell_type": "heading",
     "level": 3,
     "metadata": {},
     "source": [
      "a) Installation de Python"
     ]
    },
    {
     "cell_type": "markdown",
     "metadata": {},
     "source": [
      "La distribution **Ananconda**, de *Continuum Analytics*, contient tous les paquets n\u00e9cessaires pour une utilisation scientifique classique.\n",
      "\n",
      "[lien direct de t\u00e9l\u00e9chargement](http://continuum.io/downloads) (300 Mo, gratuit)\n",
      "\n",
      "\u2192 choisir la version adapt\u00e9e au syst\u00e8me d'exploitation (e.g. 32 vs. 64 bits)"
     ]
    },
    {
     "cell_type": "heading",
     "level": 3,
     "metadata": {},
     "source": [
      "b) Notebook IPython"
     ]
    },
    {
     "cell_type": "markdown",
     "metadata": {},
     "source": [
      "*Sous Windows, dans le Menu D\u00e9marrer, lancer \"Anaconda/IPython Notebook\"*.\n",
      "\n",
      "\u2192 Ouvre une fen\u00eatre de commande (le serveur) et une fen\u00eatre de navigateur: l'interface du Notebook avec laquelle on va interagir"
     ]
    },
    {
     "cell_type": "heading",
     "level": 4,
     "metadata": {},
     "source": [
      "tour de l'interface"
     ]
    },
    {
     "cell_type": "markdown",
     "metadata": {},
     "source": [
      "* Essayer dans le menu: \"Help/User Interface Tour\"\n",
      "* introduction rapide au shell IPython: http://ipython.org/ipython-doc/dev/interactive/tutorial.html"
     ]
    },
    {
     "cell_type": "markdown",
     "metadata": {},
     "source": [
      "Cellule de type \"Code\":"
     ]
    },
    {
     "cell_type": "code",
     "collapsed": false,
     "input": [
      "a = 1\n",
      "a+2"
     ],
     "language": "python",
     "metadata": {},
     "outputs": [
      {
       "metadata": {},
       "output_type": "pyout",
       "prompt_number": 1,
       "text": [
        "3"
       ]
      }
     ],
     "prompt_number": 1
    },
    {
     "cell_type": "markdown",
     "metadata": {},
     "source": [
      "Cellule de type \"Markdown\":\n",
      "\n",
      "* pour y \u00e9crire du texte (avec un peu de *mise en forme*, avec la syntaxe Markdown)\n",
      "* et les \u00e9quations Latex:  $\\theta = 1$\n",
      "\n",
      "Aide sur la syntaxe: [\"Markdown basics\"](https://help.github.com/articles/markdown-basics/)"
     ]
    },
    {
     "cell_type": "heading",
     "level": 2,
     "metadata": {},
     "source": [
      "2) Exploration de Python num\u00e9rique: Numpy et Matplotlib"
     ]
    },
    {
     "cell_type": "markdown",
     "metadata": {},
     "source": [
      "Importer des modules (avec un alias court, plus pratique)"
     ]
    },
    {
     "cell_type": "code",
     "collapsed": false,
     "input": [
      "import numpy as np\n",
      "import matplotlib.pyplot as plt"
     ],
     "language": "python",
     "metadata": {},
     "outputs": [],
     "prompt_number": 66
    },
    {
     "cell_type": "markdown",
     "metadata": {},
     "source": [
      "Importer juste un \u00e9l\u00e9ment:"
     ]
    },
    {
     "cell_type": "code",
     "collapsed": false,
     "input": [
      "from numpy import pi\n",
      "pi"
     ],
     "language": "python",
     "metadata": {},
     "outputs": [
      {
       "metadata": {},
       "output_type": "pyout",
       "prompt_number": 2,
       "text": [
        "3.141592653589793"
       ]
      }
     ],
     "prompt_number": 2
    },
    {
     "cell_type": "markdown",
     "metadata": {},
     "source": [
      "Activer l'affichage des graphiques dans le Notebook (image statique)"
     ]
    },
    {
     "cell_type": "code",
     "collapsed": false,
     "input": [
      "%matplotlib inline"
     ],
     "language": "python",
     "metadata": {},
     "outputs": [],
     "prompt_number": 66
    },
    {
     "cell_type": "markdown",
     "metadata": {},
     "source": [
      "Activer l'affichage dans une fen\u00eatre s\u00e9par\u00e9 (interactif)"
     ]
    },
    {
     "cell_type": "code",
     "collapsed": false,
     "input": [
      "%matplotlib qt"
     ],
     "language": "python",
     "metadata": {},
     "outputs": []
    },
    {
     "cell_type": "heading",
     "level": 3,
     "metadata": {},
     "source": [
      "Un petit trac\u00e9 Matplotlib"
     ]
    },
    {
     "cell_type": "markdown",
     "metadata": {},
     "source": [
      "Vecteur de donn\u00e9es \u00e0 tracer"
     ]
    },
    {
     "cell_type": "code",
     "collapsed": false,
     "input": [
      "t = np.linspace(0, 4*pi)\n",
      "y = np.sin(t)"
     ],
     "language": "python",
     "metadata": {},
     "outputs": [],
     "prompt_number": 48
    },
    {
     "cell_type": "markdown",
     "metadata": {},
     "source": [
      "Syntaxe de graphs avec Matplotlib: tr\u00e8s proche de Matlab (volontairement)\n",
      "\n",
      "Galerie d'exemples, tr\u00e8s pratique pour d\u00e9couvrir: http://matplotlib.org/gallery.html"
     ]
    },
    {
     "cell_type": "code",
     "collapsed": false,
     "input": [
      "plt.plot(t, y) # affiche y=f(t)\n",
      "plt.title('sinus')\n",
      "plt.xlabel('temps (s)')\n",
      "plt.grid(True)"
     ],
     "language": "python",
     "metadata": {},
     "outputs": [
      {
       "metadata": {},
       "output_type": "display_data",
       "png": "[encoded data removed]",
       "text": [
        "<matplotlib.figure.Figure at 0x7f1e1c428e50>"
       ]
      }
     ],
     "prompt_number": 67
    },
    {
     "cell_type": "heading",
     "level": 2,
     "metadata": {},
     "source": [
      "3) Lecture de donn\u00e9es"
     ]
    },
    {
     "cell_type": "code",
     "collapsed": false,
     "input": [
      "import pandas as pd"
     ],
     "language": "python",
     "metadata": {},
     "outputs": [],
     "prompt_number": 12
    },
    {
     "cell_type": "markdown",
     "metadata": {},
     "source": [
      "La \"magic\" `%ls` permet de lister le contenu d'un r\u00e9pertoire (comme `ls` sour Linux, `dir` sous Windows)"
     ]
    },
    {
     "cell_type": "code",
     "collapsed": false,
     "input": [
      "%ls *.csv"
     ],
     "language": "python",
     "metadata": {},
     "outputs": [
      {
       "output_type": "stream",
       "stream": "stdout",
       "text": [
        "log-20150128-092830.csv\r\n"
       ]
      }
     ],
     "prompt_number": 13
    },
    {
     "cell_type": "markdown",
     "metadata": {},
     "source": [
      "Nom du fichier \u00e0 lire (qui est ici dans le r\u00e9pertoire courant o\u00f9 le Notebook a \u00e9t\u00e9 ex\u00e9cut\u00e9)."
     ]
    },
    {
     "cell_type": "code",
     "collapsed": false,
     "input": [
      "%pwd"
     ],
     "language": "python",
     "metadata": {},
     "outputs": [
      {
       "metadata": {},
       "output_type": "pyout",
       "prompt_number": 14,
       "text": [
        "u'/home/pierre'"
       ]
      }
     ],
     "prompt_number": 14
    },
    {
     "cell_type": "code",
     "collapsed": false,
     "input": [
      "fname = 'log-20150128-092830.csv'"
     ],
     "language": "python",
     "metadata": {},
     "outputs": [],
     "prompt_number": 15
    },
    {
     "cell_type": "markdown",
     "metadata": {},
     "source": [
      "Affichage du contenu du fichier:\n",
      "\n",
      "* `head` et `tail` sous Linux (appel au shell avec le signe `!`)\n",
      "* sinon magic `%more`"
     ]
    },
    {
     "cell_type": "code",
     "collapsed": false,
     "input": [
      "!tail $fname"
     ],
     "language": "python",
     "metadata": {},
     "outputs": [
      {
       "output_type": "stream",
       "stream": "stdout",
       "text": [
        "05/02/2015;15:19:19.813;indoor relative humidity;34.0;%\r",
        "\r\n",
        "05/02/2015;15:19:23.623;indoor temperature;23.5;\ufffdC\r",
        "\r\n",
        "05/02/2015;15:19:30.553;volatile organic compounds;0.18;ppm\r",
        "\r\n",
        "05/02/2015;15:19:35.253;carbon dioxide;2100;ppm\r",
        "\r\n",
        "05/02/2015;15:20:19.215;indoor relative humidity;34.0;%\r",
        "\r\n",
        "05/02/2015;15:21:20.317;indoor relative humidity;34.0;%\r",
        "\r\n",
        "05/02/2015;15:22:18.520;indoor relative humidity;34.0;%\r",
        "\r\n",
        "05/02/2015;15:22:25.140;indoor temperature;23.5;\ufffdC\r",
        "\r\n",
        "05/02/2015;15:22:28.230;volatile organic compounds;0.18;ppm\r",
        "\r\n",
        "05/02/2015;15:22:35.361;carbon dioxide;2160;ppm\r",
        "\r\n"
       ]
      }
     ],
     "prompt_number": 16
    },
    {
     "cell_type": "code",
     "collapsed": false,
     "input": [
      "# affiche *tout* le fichier dans le pager\n",
      "%more $fname"
     ],
     "language": "python",
     "metadata": {},
     "outputs": [],
     "prompt_number": 17
    },
    {
     "cell_type": "heading",
     "level": 3,
     "metadata": {},
     "source": [
      "a) Lecture (parsing) du ficher CSV:"
     ]
    },
    {
     "cell_type": "markdown",
     "metadata": {},
     "source": [
      "la fonction qui fait le travail: `read_csv`.\n",
      "\n",
      "* (+) Pratique,\n",
      "* (-) mais avec *beaucoup* d'options"
     ]
    },
    {
     "cell_type": "code",
     "collapsed": false,
     "input": [
      "# Afficher l'aide (syntaxe sp\u00e9cifique \u00e0 la console IPython)\n",
      "pd.read_csv?"
     ],
     "language": "python",
     "metadata": {},
     "outputs": [],
     "prompt_number": 18
    },
    {
     "cell_type": "markdown",
     "metadata": {},
     "source": [
      "Appel simple, en pr\u00e9cisant juste le s\u00e9parateur des champs:"
     ]
    },
    {
     "cell_type": "code",
     "collapsed": false,
     "input": [
      "d = pd.read_csv(fname, sep=';')\n",
      "d.head()"
     ],
     "language": "python",
     "metadata": {},
     "outputs": [
      {
       "html": [
        "<div style=\"max-height:1000px;max-width:1500px;overflow:auto;\">\n",
        "<table border=\"1\" class=\"dataframe\">\n",
        "  <thead>\n",
        "    <tr style=\"text-align: right;\">\n",
        "      <th></th>\n",
        "      <th>date</th>\n",
        "      <th>time</th>\n",
        "      <th>type</th>\n",
        "      <th>value</th>\n",
        "      <th>unit</th>\n",
        "    </tr>\n",
        "  </thead>\n",
        "  <tbody>\n",
        "    <tr>\n",
        "      <th>0</th>\n",
        "      <td> 28/01/2015</td>\n",
        "      <td> 09:28:45.871</td>\n",
        "      <td>   indoor relative humidity</td>\n",
        "      <td> 36.00</td>\n",
        "      <td>   %</td>\n",
        "    </tr>\n",
        "    <tr>\n",
        "      <th>1</th>\n",
        "      <td> 28/01/2015</td>\n",
        "      <td> 09:29:44.274</td>\n",
        "      <td>   indoor relative humidity</td>\n",
        "      <td> 36.00</td>\n",
        "      <td>   %</td>\n",
        "    </tr>\n",
        "    <tr>\n",
        "      <th>2</th>\n",
        "      <td> 28/01/2015</td>\n",
        "      <td> 09:30:46.377</td>\n",
        "      <td>   indoor relative humidity</td>\n",
        "      <td> 37.00</td>\n",
        "      <td>   %</td>\n",
        "    </tr>\n",
        "    <tr>\n",
        "      <th>3</th>\n",
        "      <td> 28/01/2015</td>\n",
        "      <td> 09:30:50.697</td>\n",
        "      <td>         indoor temperature</td>\n",
        "      <td> 21.20</td>\n",
        "      <td>  \ufffdC</td>\n",
        "    </tr>\n",
        "    <tr>\n",
        "      <th>4</th>\n",
        "      <td> 28/01/2015</td>\n",
        "      <td> 09:30:55.908</td>\n",
        "      <td> volatile organic compounds</td>\n",
        "      <td>  0.06</td>\n",
        "      <td> ppm</td>\n",
        "    </tr>\n",
        "  </tbody>\n",
        "</table>\n",
        "</div>"
       ],
       "metadata": {},
       "output_type": "pyout",
       "prompt_number": 20,
       "text": [
        "         date          time                        type  value unit\n",
        "0  28/01/2015  09:28:45.871    indoor relative humidity  36.00    %\n",
        "1  28/01/2015  09:29:44.274    indoor relative humidity  36.00    %\n",
        "2  28/01/2015  09:30:46.377    indoor relative humidity  37.00    %\n",
        "3  28/01/2015  09:30:50.697          indoor temperature  21.20   \ufffdC\n",
        "4  28/01/2015  09:30:55.908  volatile organic compounds   0.06  ppm"
       ]
      }
     ],
     "prompt_number": 20
    },
    {
     "cell_type": "markdown",
     "metadata": {},
     "source": [
      "\u2192 Lecture sans erreur, mais les dates ne sont pas analys\u00e9es (elles restent sous forme de cha\u00eenes de caract\u00e8res)"
     ]
    },
    {
     "cell_type": "code",
     "collapsed": false,
     "input": [
      "d['date'][0]"
     ],
     "language": "python",
     "metadata": {},
     "outputs": [
      {
       "metadata": {},
       "output_type": "pyout",
       "prompt_number": 24,
       "text": [
        "'28/01/2015'"
       ]
      }
     ],
     "prompt_number": 24
    },
    {
     "cell_type": "code",
     "collapsed": false,
     "input": [
      "type(d['date'][0])"
     ],
     "language": "python",
     "metadata": {},
     "outputs": [
      {
       "metadata": {},
       "output_type": "pyout",
       "prompt_number": 25,
       "text": [
        "str"
       ]
      }
     ],
     "prompt_number": 25
    },
    {
     "cell_type": "markdown",
     "metadata": {},
     "source": [
      "Appel de `read_csv` avec des options adapt\u00e9es \u00e0 ce fichier:"
     ]
    },
    {
     "cell_type": "code",
     "collapsed": false,
     "input": [
      "d = pd.read_csv(fname, sep=';',\n",
      "                parse_dates=[[0,1]], # aller chercher la date dans les 2 premi\u00e8re colonnes\n",
      "                index_col=0, # utiliser la date comme index des donn\u00e9es\n",
      "                dayfirst=True, # ne pas confondre le 5 f\u00e9vrier avec le 2 mai (format am\u00e9ricain MM-DD-YYYY)\n",
      "                )\n",
      "d.head()"
     ],
     "language": "python",
     "metadata": {},
     "outputs": [
      {
       "html": [
        "<div style=\"max-height:1000px;max-width:1500px;overflow:auto;\">\n",
        "<table border=\"1\" class=\"dataframe\">\n",
        "  <thead>\n",
        "    <tr style=\"text-align: right;\">\n",
        "      <th></th>\n",
        "      <th>type</th>\n",
        "      <th>value</th>\n",
        "      <th>unit</th>\n",
        "    </tr>\n",
        "    <tr>\n",
        "      <th>date_time</th>\n",
        "      <th></th>\n",
        "      <th></th>\n",
        "      <th></th>\n",
        "    </tr>\n",
        "  </thead>\n",
        "  <tbody>\n",
        "    <tr>\n",
        "      <th>2015-01-28 09:28:45.871000</th>\n",
        "      <td>   indoor relative humidity</td>\n",
        "      <td> 36.00</td>\n",
        "      <td>   %</td>\n",
        "    </tr>\n",
        "    <tr>\n",
        "      <th>2015-01-28 09:29:44.274000</th>\n",
        "      <td>   indoor relative humidity</td>\n",
        "      <td> 36.00</td>\n",
        "      <td>   %</td>\n",
        "    </tr>\n",
        "    <tr>\n",
        "      <th>2015-01-28 09:30:46.377000</th>\n",
        "      <td>   indoor relative humidity</td>\n",
        "      <td> 37.00</td>\n",
        "      <td>   %</td>\n",
        "    </tr>\n",
        "    <tr>\n",
        "      <th>2015-01-28 09:30:50.697000</th>\n",
        "      <td>         indoor temperature</td>\n",
        "      <td> 21.20</td>\n",
        "      <td>  \ufffdC</td>\n",
        "    </tr>\n",
        "    <tr>\n",
        "      <th>2015-01-28 09:30:55.908000</th>\n",
        "      <td> volatile organic compounds</td>\n",
        "      <td>  0.06</td>\n",
        "      <td> ppm</td>\n",
        "    </tr>\n",
        "  </tbody>\n",
        "</table>\n",
        "</div>"
       ],
       "metadata": {},
       "output_type": "pyout",
       "prompt_number": 26,
       "text": [
        "                                                  type  value unit\n",
        "date_time                                                         \n",
        "2015-01-28 09:28:45.871000    indoor relative humidity  36.00    %\n",
        "2015-01-28 09:29:44.274000    indoor relative humidity  36.00    %\n",
        "2015-01-28 09:30:46.377000    indoor relative humidity  37.00    %\n",
        "2015-01-28 09:30:50.697000          indoor temperature  21.20   \ufffdC\n",
        "2015-01-28 09:30:55.908000  volatile organic compounds   0.06  ppm"
       ]
      }
     ],
     "prompt_number": 26
    },
    {
     "cell_type": "heading",
     "level": 3,
     "metadata": {},
     "source": [
      "b) Manipulation des donn\u00e9es"
     ]
    },
    {
     "cell_type": "markdown",
     "metadata": {},
     "source": [
      "les donn\u00e9s sont dans un `pandas.DataFrame`"
     ]
    },
    {
     "cell_type": "code",
     "collapsed": false,
     "input": [
      "type(d)"
     ],
     "language": "python",
     "metadata": {},
     "outputs": [
      {
       "metadata": {},
       "output_type": "pyout",
       "prompt_number": 27,
       "text": [
        "pandas.core.frame.DataFrame"
       ]
      }
     ],
     "prompt_number": 27
    },
    {
     "cell_type": "markdown",
     "metadata": {},
     "source": [
      "On r\u00e9cup\u00e8re une colonne par indexation. Objet de type `Series`"
     ]
    },
    {
     "cell_type": "code",
     "collapsed": false,
     "input": [
      "vals = d['value']\n",
      "vals.head()"
     ],
     "language": "python",
     "metadata": {},
     "outputs": [
      {
       "metadata": {},
       "output_type": "pyout",
       "prompt_number": 29,
       "text": [
        "date_time\n",
        "2015-01-28 09:28:45.871000    36.00\n",
        "2015-01-28 09:29:44.274000    36.00\n",
        "2015-01-28 09:30:46.377000    37.00\n",
        "2015-01-28 09:30:50.697000    21.20\n",
        "2015-01-28 09:30:55.908000     0.06\n",
        "Name: value, dtype: float64"
       ]
      }
     ],
     "prompt_number": 29
    },
    {
     "cell_type": "code",
     "collapsed": false,
     "input": [
      "type(vals)"
     ],
     "language": "python",
     "metadata": {},
     "outputs": [
      {
       "metadata": {},
       "output_type": "pyout",
       "prompt_number": 30,
       "text": [
        "pandas.core.series.Series"
       ]
      }
     ],
     "prompt_number": 30
    },
    {
     "cell_type": "markdown",
     "metadata": {},
     "source": [
      "Tout les type de mesures issues du capteur"
     ]
    },
    {
     "cell_type": "code",
     "collapsed": false,
     "input": [
      "type_meas = d['type']\n",
      "type_meas.unique()"
     ],
     "language": "python",
     "metadata": {},
     "outputs": [
      {
       "metadata": {},
       "output_type": "pyout",
       "prompt_number": 31,
       "text": [
        "array(['indoor relative humidity', 'indoor temperature',\n",
        "       'volatile organic compounds', 'carbon dioxide'], dtype=object)"
       ]
      }
     ],
     "prompt_number": 31
    },
    {
     "cell_type": "markdown",
     "metadata": {},
     "source": [
      "R\u00e9cup\u00e9rer seulement un type de mesures: la temp\u00e9rature"
     ]
    },
    {
     "cell_type": "code",
     "collapsed": false,
     "input": [
      "temp = vals[d['type'] == 'indoor temperature']\n",
      "temp.head(3)"
     ],
     "language": "python",
     "metadata": {},
     "outputs": [
      {
       "metadata": {},
       "output_type": "pyout",
       "prompt_number": 35,
       "text": [
        "date_time\n",
        "2015-01-28 09:30:50.697000    21.2\n",
        "2015-01-28 09:33:49.494000    21.4\n",
        "2015-01-28 09:36:51.682000    21.2\n",
        "Name: value, dtype: float64"
       ]
      }
     ],
     "prompt_number": 35
    },
    {
     "cell_type": "markdown",
     "metadata": {},
     "source": [
      "Exo: faire la m\u00eame chose pour le CO2"
     ]
    },
    {
     "cell_type": "code",
     "collapsed": false,
     "input": [
      "co2 = vals[d['type'] == 'carbon dioxide']\n",
      "co2.head(3)"
     ],
     "language": "python",
     "metadata": {},
     "outputs": [
      {
       "metadata": {},
       "output_type": "pyout",
       "prompt_number": 43,
       "text": [
        "date_time\n",
        "2015-01-28 09:31:01.408000    390\n",
        "2015-01-28 09:33:59.015000    390\n",
        "2015-01-28 09:37:01.512000    390\n",
        "Name: value, dtype: float64"
       ]
      }
     ],
     "prompt_number": 43
    },
    {
     "cell_type": "heading",
     "level": 4,
     "metadata": {},
     "source": [
      "Statistique par groupes: `groupby`"
     ]
    },
    {
     "cell_type": "markdown",
     "metadata": {},
     "source": [
      "Par type de mesure"
     ]
    },
    {
     "cell_type": "code",
     "collapsed": false,
     "input": [
      "d.groupby('type').mean()"
     ],
     "language": "python",
     "metadata": {},
     "outputs": [
      {
       "html": [
        "<div style=\"max-height:1000px;max-width:1500px;overflow:auto;\">\n",
        "<table border=\"1\" class=\"dataframe\">\n",
        "  <thead>\n",
        "    <tr style=\"text-align: right;\">\n",
        "      <th></th>\n",
        "      <th>value</th>\n",
        "    </tr>\n",
        "    <tr>\n",
        "      <th>type</th>\n",
        "      <th></th>\n",
        "    </tr>\n",
        "  </thead>\n",
        "  <tbody>\n",
        "    <tr>\n",
        "      <th>carbon dioxide</th>\n",
        "      <td> 441.214809</td>\n",
        "    </tr>\n",
        "    <tr>\n",
        "      <th>indoor relative humidity</th>\n",
        "      <td>  29.069816</td>\n",
        "    </tr>\n",
        "    <tr>\n",
        "      <th>indoor temperature</th>\n",
        "      <td>  20.549659</td>\n",
        "    </tr>\n",
        "    <tr>\n",
        "      <th>volatile organic compounds</th>\n",
        "      <td>   0.059591</td>\n",
        "    </tr>\n",
        "  </tbody>\n",
        "</table>\n",
        "</div>"
       ],
       "metadata": {},
       "output_type": "pyout",
       "prompt_number": 172,
       "text": [
        "                                 value\n",
        "type                                  \n",
        "carbon dioxide              441.214809\n",
        "indoor relative humidity     29.069816\n",
        "indoor temperature           20.549659\n",
        "volatile organic compounds    0.059591"
       ]
      }
     ],
     "prompt_number": 172
    },
    {
     "cell_type": "markdown",
     "metadata": {},
     "source": [
      "Statistiques par jour"
     ]
    },
    {
     "cell_type": "code",
     "collapsed": false,
     "input": [
      "temp.groupby(temp.index.dayofyear).mean()"
     ],
     "language": "python",
     "metadata": {},
     "outputs": [
      {
       "metadata": {},
       "output_type": "pyout",
       "prompt_number": 39,
       "text": [
        "28    21.091349\n",
        "29    21.766250\n",
        "30    21.304792\n",
        "31    19.128750\n",
        "32    18.576458\n",
        "33    20.560417\n",
        "34    21.048125\n",
        "35    20.702917\n",
        "36    21.225649\n",
        "Name: value, dtype: float64"
       ]
      }
     ],
     "prompt_number": 39
    },
    {
     "cell_type": "heading",
     "level": 4,
     "metadata": {},
     "source": [
      "Changer la fr\u00e9quence: r\u00e9\u00e9chantillonage"
     ]
    },
    {
     "cell_type": "markdown",
     "metadata": {},
     "source": [
      "Sous \u00e9chantillonage: moyennes journali\u00e8res"
     ]
    },
    {
     "cell_type": "code",
     "collapsed": false,
     "input": [
      "temp.resample('1D')"
     ],
     "language": "python",
     "metadata": {},
     "outputs": [
      {
       "metadata": {},
       "output_type": "pyout",
       "prompt_number": 55,
       "text": [
        "date_time\n",
        "2015-01-28    21.091349\n",
        "2015-01-29    21.766250\n",
        "2015-01-30    21.304792\n",
        "2015-01-31    19.128750\n",
        "2015-02-01    18.576458\n",
        "2015-02-02    20.560417\n",
        "2015-02-03    21.048125\n",
        "2015-02-04    20.702917\n",
        "2015-02-05    21.225649\n",
        "Freq: D, Name: value, dtype: float64"
       ]
      }
     ],
     "prompt_number": 55
    },
    {
     "cell_type": "markdown",
     "metadata": {},
     "source": [
      "Sur \u00e9chantillonage: il faut combler les trous"
     ]
    },
    {
     "cell_type": "code",
     "collapsed": false,
     "input": [
      "temp.resample('1Min').head()"
     ],
     "language": "python",
     "metadata": {},
     "outputs": [
      {
       "metadata": {},
       "output_type": "pyout",
       "prompt_number": 62,
       "text": [
        "date_time\n",
        "2015-01-28 09:30:00    21.2\n",
        "2015-01-28 09:31:00     NaN\n",
        "2015-01-28 09:32:00     NaN\n",
        "2015-01-28 09:33:00    21.4\n",
        "2015-01-28 09:34:00     NaN\n",
        "Freq: T, Name: value, dtype: float64"
       ]
      }
     ],
     "prompt_number": 62
    },
    {
     "cell_type": "code",
     "collapsed": false,
     "input": [
      "temp.resample('1Min', fill_method='bfill').head()"
     ],
     "language": "python",
     "metadata": {},
     "outputs": [
      {
       "metadata": {},
       "output_type": "pyout",
       "prompt_number": 57,
       "text": [
        "date_time\n",
        "2015-01-28 09:30:00    21.2\n",
        "2015-01-28 09:31:00    21.4\n",
        "2015-01-28 09:32:00    21.4\n",
        "2015-01-28 09:33:00    21.4\n",
        "2015-01-28 09:34:00    21.2\n",
        "Freq: T, Name: value, dtype: float64"
       ]
      }
     ],
     "prompt_number": 57
    },
    {
     "cell_type": "code",
     "collapsed": false,
     "input": [
      "temp.resample('1Min').interpolate().head()"
     ],
     "language": "python",
     "metadata": {},
     "outputs": [
      {
       "metadata": {},
       "output_type": "pyout",
       "prompt_number": 60,
       "text": [
        "date_time\n",
        "2015-01-28 09:30:00    21.200000\n",
        "2015-01-28 09:31:00    21.266667\n",
        "2015-01-28 09:32:00    21.333333\n",
        "2015-01-28 09:33:00    21.400000\n",
        "2015-01-28 09:34:00    21.333333\n",
        "Freq: T, Name: value, dtype: float64"
       ]
      }
     ],
     "prompt_number": 60
    },
    {
     "cell_type": "heading",
     "level": 3,
     "metadata": {},
     "source": [
      "c) Trac\u00e9 des donn\u00e9es capteur"
     ]
    },
    {
     "cell_type": "code",
     "collapsed": false,
     "input": [
      "%matplotlib inline"
     ],
     "language": "python",
     "metadata": {},
     "outputs": [],
     "prompt_number": 64
    },
    {
     "cell_type": "code",
     "collapsed": false,
     "input": [
      "temp.plot()\n",
      "plt.ylabel(u'temp\u00e9rature (\u00b0C)') # u'' pour des textes accentu\u00e9s"
     ],
     "language": "python",
     "metadata": {},
     "outputs": [
      {
       "metadata": {},
       "output_type": "pyout",
       "prompt_number": 75,
       "text": [
        "<matplotlib.text.Text at 0x7f208c9ec410>"
       ]
      },
      {
       "metadata": {},
       "output_type": "display_data",
       "png": "[encoded data removed]",
       "text": [
        "<matplotlib.figure.Figure at 0x7f208c8872d0>"
       ]
      }
     ],
     "prompt_number": 75
    },
    {
     "cell_type": "markdown",
     "metadata": {},
     "source": [
      "Deux trac\u00e9s sur le m\u00eame axe: `twinx` (pb de grille non superpos\u00e9e)"
     ]
    },
    {
     "cell_type": "code",
     "collapsed": false,
     "input": [
      "temp.plot()\n",
      "plt.twinx()\n",
      "co2.plot(style='r');"
     ],
     "language": "python",
     "metadata": {},
     "outputs": [
      {
       "metadata": {},
       "output_type": "display_data",
       "png": "[encoded data removed]",
       "text": [
        "<matplotlib.figure.Figure at 0x7f208c333650>"
       ]
      }
     ],
     "prompt_number": 74
    },
    {
     "cell_type": "markdown",
     "metadata": {},
     "source": [
      "La temp\u00e9rature et le CO2, superpos\u00e9s: `subplots`"
     ]
    },
    {
     "cell_type": "code",
     "collapsed": false,
     "input": [
      "fig, (ax1, ax2) = plt.subplots(2,1, sharex=True)\n",
      "\n",
      "temp.plot(ax=ax1)\n",
      "\n",
      "co2.plot(ax=ax2, style='r')\n",
      "plt.xlim('2015-02-03','2015-02-04')\n",
      "ax2.set_ylim(200, 1200);"
     ],
     "language": "python",
     "metadata": {},
     "outputs": [
      {
       "metadata": {},
       "output_type": "display_data",
       "png": "[encoded data removed]",
       "text": [
        "<matplotlib.figure.Figure at 0x7f208c467d50>"
       ]
      }
     ],
     "prompt_number": 71
    },
    {
     "cell_type": "markdown",
     "metadata": {},
     "source": [
      "Remarque: gr\u00e2ce au param\u00e8tre `sharex`, le zoom est synchronis\u00e9 (utile en mode interactif, avec `%matplotlib qt`)."
     ]
    }
   ],
   "metadata": {}
  }
 ]
}